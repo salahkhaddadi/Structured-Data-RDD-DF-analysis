{
  "cells": [
    {
      "cell_type": "markdown",
      "metadata": {
        "id": "cLSkeQia0M9X"
      },
      "source": [
        "# **KDDCup Data Analytics with PySpark DF: A structured case study**\n",
        "\n"
      ]
    },
    {
      "cell_type": "code",
      "execution_count": 1,
      "metadata": {
        "id": "DyGtjbRA0M9k",
        "colab": {
          "base_uri": "https://localhost:8080/"
        },
        "outputId": "5f423130-b301-4c0c-8775-dc9064fc6716"
      },
      "outputs": [
        {
          "output_type": "stream",
          "name": "stdout",
          "text": [
            "Collecting pyspark\n",
            "  Downloading pyspark-3.5.1.tar.gz (317.0 MB)\n",
            "\u001b[2K     \u001b[90m━━━━━━━━━━━━━━━━━━━━━━━━━━━━━━━━━━━━━━━━\u001b[0m \u001b[32m317.0/317.0 MB\u001b[0m \u001b[31m4.0 MB/s\u001b[0m eta \u001b[36m0:00:00\u001b[0m\n",
            "\u001b[?25h  Preparing metadata (setup.py) ... \u001b[?25l\u001b[?25hdone\n",
            "Requirement already satisfied: py4j==0.10.9.7 in /usr/local/lib/python3.10/dist-packages (from pyspark) (0.10.9.7)\n",
            "Building wheels for collected packages: pyspark\n",
            "  Building wheel for pyspark (setup.py) ... \u001b[?25l\u001b[?25hdone\n",
            "  Created wheel for pyspark: filename=pyspark-3.5.1-py2.py3-none-any.whl size=317488493 sha256=372f17f619a8fd7e921bf5fc5bec5062c1f13c6ad98069cc0b5e76174192d3e8\n",
            "  Stored in directory: /root/.cache/pip/wheels/80/1d/60/2c256ed38dddce2fdd93be545214a63e02fbd8d74fb0b7f3a6\n",
            "Successfully built pyspark\n",
            "Installing collected packages: pyspark\n",
            "Successfully installed pyspark-3.5.1\n"
          ]
        }
      ],
      "source": [
        "########## ONLY in Colab ##########\n",
        "!pip3 install pyspark\n",
        "########## ONLY in Colab ##########"
      ]
    },
    {
      "cell_type": "code",
      "execution_count": 2,
      "metadata": {
        "id": "9I9MBYnB0M9n"
      },
      "outputs": [],
      "source": [
        "########## ONLY in Ubuntu Machine ##########\n",
        "# Load Spark engine\n",
        "!pip3 install -q findspark\n",
        "import findspark\n",
        "findspark.init()\n",
        "########## ONLY in Ubuntu Machine ##########"
      ]
    },
    {
      "cell_type": "code",
      "execution_count": 23,
      "metadata": {
        "id": "RoWdIaas0M9p",
        "colab": {
          "base_uri": "https://localhost:8080/",
          "height": 219
        },
        "outputId": "78c6b69e-273b-441c-bf66-c119bc8cd6da"
      },
      "outputs": [
        {
          "output_type": "execute_result",
          "data": {
            "text/plain": [
              "<pyspark.sql.session.SparkSession at 0x7f802c039db0>"
            ],
            "text/html": [
              "\n",
              "            <div>\n",
              "                <p><b>SparkSession - in-memory</b></p>\n",
              "                \n",
              "        <div>\n",
              "            <p><b>SparkContext</b></p>\n",
              "\n",
              "            <p><a href=\"http://7b1f54312ef9:4040\">Spark UI</a></p>\n",
              "\n",
              "            <dl>\n",
              "              <dt>Version</dt>\n",
              "                <dd><code>v3.5.1</code></dd>\n",
              "              <dt>Master</dt>\n",
              "                <dd><code>local[*]</code></dd>\n",
              "              <dt>AppName</dt>\n",
              "                <dd><code>pyspark-shell</code></dd>\n",
              "            </dl>\n",
              "        </div>\n",
              "        \n",
              "            </div>\n",
              "        "
            ]
          },
          "metadata": {},
          "execution_count": 23
        }
      ],
      "source": [
        "# import SparkSession\n",
        "\n",
        "from pyspark.sql import SparkSession\n",
        "spark = SparkSession.builder.master(\"local[*]\").getOrCreate()\n",
        "\n",
        "spark"
      ]
    },
    {
      "cell_type": "markdown",
      "source": [
        "# Read and Load Data to Spark\n",
        "# Data source: http://kdd.ics.uci.edu/databases/kddcup99/kddcup99.html\n",
        "\n",
        "df = spark.read.text(\"kddcup.data.gz\")\n",
        "df.printSchema()\n"
      ],
      "metadata": {
        "id": "Ybgw2UK00M9t"
      }
    },
    {
      "cell_type": "code",
      "source": [
        "df = spark.read.text(\"kddcup.data.gz\")\n",
        "df.printSchema()"
      ],
      "metadata": {
        "colab": {
          "base_uri": "https://localhost:8080/"
        },
        "id": "QRXC212W02mC",
        "outputId": "d0d72331-fc63-4553-9a63-37a668ab8da3"
      },
      "execution_count": 25,
      "outputs": [
        {
          "output_type": "stream",
          "name": "stdout",
          "text": [
            "root\n",
            " |-- value: string (nullable = true)\n",
            "\n"
          ]
        }
      ]
    },
    {
      "cell_type": "code",
      "source": [
        "# Split data (if needed)\n",
        "split_col = split(df['value'], ',')\n",
        "df = df.withColumn('Protocol', split_col.getItem(1)) \\\n",
        "       .withColumn('Service', split_col.getItem(2)) \\\n",
        "       .withColumn('flag', split_col.getItem(3)) \\\n",
        "       .withColumn('src_bytes', split_col.getItem(4)) \\\n",
        "       .withColumn('dst_bytes', split_col.getItem(5)) \\\n",
        "       .withColumn('urgent', split_col.getItem(8)) \\\n",
        "       .withColumn('num_failed_logins', split_col.getItem(10)) \\\n",
        "       .withColumn('root_shell', split_col.getItem(13)) \\\n",
        "       .withColumn('guest_login', split_col.getItem(21)) \\\n",
        "       .withColumn('label', split_col.getItem(41)) \\\n",
        "       .drop('value')\n",
        "\n",
        "df.show()"
      ],
      "metadata": {
        "id": "rfYt71m61lAY",
        "colab": {
          "base_uri": "https://localhost:8080/"
        },
        "outputId": "f264bd39-ae72-43c1-98d2-6297e7eb33e6"
      },
      "execution_count": 26,
      "outputs": [
        {
          "output_type": "stream",
          "name": "stdout",
          "text": [
            "+--------+-------+----+---------+---------+------+-----------------+----------+-----------+-------+\n",
            "|Protocol|Service|flag|src_bytes|dst_bytes|urgent|num_failed_logins|root_shell|guest_login|  label|\n",
            "+--------+-------+----+---------+---------+------+-----------------+----------+-----------+-------+\n",
            "|     tcp|   http|  SF|      215|    45076|     0|                0|         0|          0|normal.|\n",
            "|     tcp|   http|  SF|      162|     4528|     0|                0|         0|          0|normal.|\n",
            "|     tcp|   http|  SF|      236|     1228|     0|                0|         0|          0|normal.|\n",
            "|     tcp|   http|  SF|      233|     2032|     0|                0|         0|          0|normal.|\n",
            "|     tcp|   http|  SF|      239|      486|     0|                0|         0|          0|normal.|\n",
            "|     tcp|   http|  SF|      238|     1282|     0|                0|         0|          0|normal.|\n",
            "|     tcp|   http|  SF|      235|     1337|     0|                0|         0|          0|normal.|\n",
            "|     tcp|   http|  SF|      234|     1364|     0|                0|         0|          0|normal.|\n",
            "|     tcp|   http|  SF|      239|     1295|     0|                0|         0|          0|normal.|\n",
            "|     tcp|   http|  SF|      181|     5450|     0|                0|         0|          0|normal.|\n",
            "|     tcp|   http|  SF|      184|      124|     0|                0|         0|          0|normal.|\n",
            "|     tcp|   http|  SF|      185|     9020|     0|                0|         0|          0|normal.|\n",
            "|     tcp|   http|  SF|      239|     1295|     0|                0|         0|          0|normal.|\n",
            "|     tcp|   http|  SF|      181|     5450|     0|                0|         0|          0|normal.|\n",
            "|     tcp|   http|  SF|      236|     1228|     0|                0|         0|          0|normal.|\n",
            "|     tcp|   http|  SF|      233|     2032|     0|                0|         0|          0|normal.|\n",
            "|     tcp|   http|  SF|      238|     1282|     0|                0|         0|          0|normal.|\n",
            "|     tcp|   http|  SF|      235|     1337|     0|                0|         0|          0|normal.|\n",
            "|     tcp|   http|  SF|      234|     1364|     0|                0|         0|          0|normal.|\n",
            "|     tcp|   http|  SF|      239|      486|     0|                0|         0|          0|normal.|\n",
            "+--------+-------+----+---------+---------+------+-----------------+----------+-----------+-------+\n",
            "only showing top 20 rows\n",
            "\n"
          ]
        }
      ]
    },
    {
      "cell_type": "code",
      "execution_count": 29,
      "metadata": {
        "id": "GBZhKUhW0M9u",
        "colab": {
          "base_uri": "https://localhost:8080/"
        },
        "outputId": "d3c6787c-d165-4b3c-c391-7b6eccb6e241"
      },
      "outputs": [
        {
          "output_type": "stream",
          "name": "stdout",
          "text": [
            "10\n"
          ]
        }
      ],
      "source": [
        "# Increase the number of partitions (if needed) and Build a Temp table\n",
        "\n",
        "df = df.repartition(10)\n",
        "\n",
        "print(df.rdd.getNumPartitions())\n",
        "\n",
        "df.createOrReplaceTempView(\"df_KDDCup\")"
      ]
    },
    {
      "cell_type": "markdown",
      "metadata": {
        "id": "sntXiEB40M93"
      },
      "source": [
        "## Question 1: Count the number of connections for each label"
      ]
    },
    {
      "cell_type": "code",
      "execution_count": 31,
      "metadata": {
        "id": "4vmGeQD10M94",
        "colab": {
          "base_uri": "https://localhost:8080/"
        },
        "outputId": "46a3da4f-a6f9-40f1-9d64-ba9cd27ad933"
      },
      "outputs": [
        {
          "output_type": "stream",
          "name": "stdout",
          "text": [
            "+----------------+-------+\n",
            "|           label|  count|\n",
            "+----------------+-------+\n",
            "|          smurf.|2807886|\n",
            "|        neptune.|1072017|\n",
            "|         normal.| 972781|\n",
            "|          satan.|  15892|\n",
            "|        ipsweep.|  12481|\n",
            "|      portsweep.|  10413|\n",
            "|           nmap.|   2316|\n",
            "|           back.|   2203|\n",
            "|    warezclient.|   1020|\n",
            "|       teardrop.|    979|\n",
            "|            pod.|    264|\n",
            "|   guess_passwd.|     53|\n",
            "|buffer_overflow.|     30|\n",
            "|           land.|     21|\n",
            "|    warezmaster.|     20|\n",
            "|           imap.|     12|\n",
            "|        rootkit.|     10|\n",
            "|     loadmodule.|      9|\n",
            "|      ftp_write.|      8|\n",
            "|       multihop.|      7|\n",
            "+----------------+-------+\n",
            "only showing top 20 rows\n",
            "\n"
          ]
        }
      ],
      "source": [
        "df.groupBy('label').count().orderBy('count', ascending=False).show()"
      ]
    },
    {
      "cell_type": "markdown",
      "source": [
        "## Question 2:  Get the list of `Protocols`that are `normal` and `vulnerable to attacks`, where there is NOT `guest login` to the destination addresses\n"
      ],
      "metadata": {
        "id": "A_H0qa3ODouT"
      }
    },
    {
      "cell_type": "code",
      "source": [
        "sql_query = \"\"\" SELECT Protocol,\n",
        "                CASE label\n",
        "                  WHEN 'normal.' THEN 'no attack'\n",
        "                  ELSE 'attack'\n",
        "                END AS State,\n",
        "                COUNT(*) as freq\n",
        "              FROM df_KDDCup\n",
        "              WHERE guest_login != 1\n",
        "              GROUP BY Protocol, State\n",
        "              ORDER BY Protocol DESC\n",
        "            \"\"\"\n",
        "\n",
        "spark.sql(sql_query).show()"
      ],
      "metadata": {
        "id": "JP30RhzWDpWR",
        "colab": {
          "base_uri": "https://localhost:8080/"
        },
        "outputId": "04745f63-a836-4c4c-defe-bc56a84763f3"
      },
      "execution_count": 40,
      "outputs": [
        {
          "output_type": "stream",
          "name": "stdout",
          "text": [
            "+--------+---------+-------+\n",
            "|Protocol|    State|   freq|\n",
            "+--------+---------+-------+\n",
            "|     udp|   attack|   2940|\n",
            "|     udp|no attack| 191348|\n",
            "|     tcp|no attack| 764894|\n",
            "|     tcp|   attack|1101613|\n",
            "|    icmp|   attack|2820782|\n",
            "|    icmp|no attack|  12763|\n",
            "+--------+---------+-------+\n",
            "\n"
          ]
        }
      ]
    },
    {
      "cell_type": "markdown",
      "source": [
        "\n",
        "## Question 3: Apply Some Descriptive Statistics on Numerical Data"
      ],
      "metadata": {
        "id": "iE-B9k2JFoBX"
      }
    },
    {
      "cell_type": "code",
      "source": [
        "# PySpark provides built-in standard Aggregate functions defines in DataFrame API\n",
        "from pyspark.sql.functions import *\n",
        "\n",
        "summary = df.select(mean(df.src_bytes).alias('AVG(src_bytes)'),\n",
        "                    stddev(df.src_bytes).alias('STD(src_bytes)'),\n",
        "                    min(df.src_bytes).alias('MIN(src_bytes)'),\n",
        "                    max(df.src_bytes).alias('MAX(src_bytes)'),\n",
        "                    last(df.src_bytes).alias('LAST(src_bytes)'),\n",
        "                    skewness(df.src_bytes).alias('SKEW(src_bytes)')\n",
        "\n",
        "                    )\n",
        "\n",
        "summary.show()"
      ],
      "metadata": {
        "id": "FQlYGA9aEYkn",
        "colab": {
          "base_uri": "https://localhost:8080/"
        },
        "outputId": "67419286-0f76-412d-c724-9365e5fb0ea7"
      },
      "execution_count": 41,
      "outputs": [
        {
          "output_type": "stream",
          "name": "stdout",
          "text": [
            "+------------------+-----------------+--------------+--------------+---------------+------------------+\n",
            "|    AVG(src_bytes)|   STD(src_bytes)|MIN(src_bytes)|MAX(src_bytes)|LAST(src_bytes)|   SKEW(src_bytes)|\n",
            "+------------------+-----------------+--------------+--------------+---------------+------------------+\n",
            "|1834.6211752293746|941431.0744911298|             0|           999|           2341|1188.9519100465739|\n",
            "+------------------+-----------------+--------------+--------------+---------------+------------------+\n",
            "\n"
          ]
        }
      ]
    },
    {
      "cell_type": "code",
      "source": [
        "groups = df.groupBy(\"Protocol\")\n",
        "groups.agg({'src_bytes':'mean', 'dst_bytes':'stddev'}).show()"
      ],
      "metadata": {
        "colab": {
          "base_uri": "https://localhost:8080/"
        },
        "id": "jFxMKpx08i8h",
        "outputId": "52c0e701-9456-4d75-b529-2b44ab4248ad"
      },
      "execution_count": 42,
      "outputs": [
        {
          "output_type": "stream",
          "name": "stdout",
          "text": [
            "+--------+-----------------+------------------+\n",
            "|Protocol|   avg(src_bytes)| stddev(dst_bytes)|\n",
            "+--------+-----------------+------------------+\n",
            "|     tcp|3388.569965326596|1043771.3100418178|\n",
            "|     udp|97.22772893848308| 55.43318653434132|\n",
            "|    icmp|927.8916893855577|               0.0|\n",
            "+--------+-----------------+------------------+\n",
            "\n"
          ]
        }
      ]
    },
    {
      "cell_type": "markdown",
      "source": [
        "## Question 4: A Descriptive Stats based on `Protocols` and `Labels`\n"
      ],
      "metadata": {
        "id": "ktk6Q722Ihho"
      }
    },
    {
      "cell_type": "code",
      "source": [
        "sql_query = \"\"\"\n",
        "                           SELECT protocol,\n",
        "                             CASE label\n",
        "                               WHEN 'normal.' THEN 'no attack'\n",
        "                               ELSE 'attack'\n",
        "                             END AS state,\n",
        "                             COUNT(*) as total_freq,\n",
        "                            ROUND(AVG(src_bytes), 2) as mean_src_bytes,\n",
        "                            ROUND(AVG(dst_bytes), 2) as mean_dst_bytes,\n",
        "                            SUM(urgent) as sum_urgent,\n",
        "                            SUM(num_failed_logins) as sum_failed_logins,\n",
        "                            SUM(root_shell) as sum_root_shell,\n",
        "                            SUM(guest_login) as sum_guest_login\n",
        "                           FROM df_KDDCup\n",
        "                           GROUP BY protocol, state\n",
        "                           ORDER BY 3 DESC\n",
        "                           \"\"\"\n",
        "spark.sql(sql_query).show()"
      ],
      "metadata": {
        "id": "Vh8S4ZDMJuQs",
        "colab": {
          "base_uri": "https://localhost:8080/"
        },
        "outputId": "2446c2f7-85c2-496e-8445-3773443a2ac3"
      },
      "execution_count": 43,
      "outputs": [
        {
          "output_type": "stream",
          "name": "stdout",
          "text": [
            "+--------+---------+----------+--------------+--------------+----------+-----------------+--------------+---------------+\n",
            "|protocol|    state|total_freq|mean_src_bytes|mean_dst_bytes|sum_urgent|sum_failed_logins|sum_root_shell|sum_guest_login|\n",
            "+--------+---------+----------+--------------+--------------+----------+-----------------+--------------+---------------+\n",
            "|    icmp|   attack|   2820782|        931.68|           0.0|       0.0|              0.0|           0.0|            0.0|\n",
            "|     tcp|   attack|   1101928|       4465.81|       2005.96|       4.0|             61.0|          32.0|          315.0|\n",
            "|     tcp|no attack|    768670|       1844.29|       4071.32|      35.0|             96.0|         302.0|         3776.0|\n",
            "|     udp|no attack|    191348|         98.32|         89.41|       0.0|              0.0|           0.0|            0.0|\n",
            "|    icmp|no attack|     12763|         90.68|           0.0|       0.0|              0.0|           0.0|            0.0|\n",
            "|     udp|   attack|      2940|          26.4|          0.82|       0.0|              0.0|           0.0|            0.0|\n",
            "+--------+---------+----------+--------------+--------------+----------+-----------------+--------------+---------------+\n",
            "\n"
          ]
        }
      ]
    },
    {
      "cell_type": "markdown",
      "source": [
        "## Question 5: Get the frquency of `services` for the original `UDP and ICMP` based `attacks`\n",
        "(hint 1: original attacks: `[dos, u2r, r2l, probe]`)\n",
        "\n",
        "(hint 2: returns `services` and `protocols` center justified)"
      ],
      "metadata": {
        "id": "SKYjJFVDIp2_"
      }
    },
    {
      "cell_type": "code",
      "source": [
        "from pyspark.sql.types import StringType\n",
        "\n",
        "def Attack_Category(item):\n",
        "  if item.replace(\".\", \"\") in ['back', 'land', 'neptune', 'pod', 'smurf', 'teardrop']:\n",
        "    return \"DoS\"\n",
        "  elif item.replace(\".\", \"\") in ['buffer_overflow', 'loadmodule', 'perl', 'rootkit']:\n",
        "    return \"U2R\"\n",
        "  elif item.replace(\".\", \"\") in ['ftp_write', 'guess_passwd', 'multihop', 'phf', 'spy', 'warezclient', 'warezmaster']:\n",
        "    return \"R2L\"\n",
        "  else: return \"Probe\"\n",
        "\n",
        "def Center_Justify(item):\n",
        "  return item.center(10)\n",
        "\n",
        "\n",
        "spark.udf.register(\"OrginalAttacks\", Attack_Category, StringType())\n",
        "spark.udf.register(\"TextJustify\", Center_Justify, StringType())\n",
        "\n",
        "sql_query = \"\"\"\n",
        "                SELECT\n",
        "                  TextJustify(service) as service,\n",
        "                  TextJustify(protocol) as protocol,\n",
        "                  OrginalAttacks(label) as new_label,\n",
        "                  COUNT(*) as freq\n",
        "                FROM df_KDDCup\n",
        "                WHERE (protocol = 'udp' OR protocol = 'icmp') AND label != 'normal.'\n",
        "                GROUP BY service, new_label, protocol\n",
        "                ORDER BY freq DESC\n",
        "          \"\"\"\n",
        "\n",
        "spark.sql(sql_query).show()"
      ],
      "metadata": {
        "id": "eqr9zv5iIqLe",
        "colab": {
          "base_uri": "https://localhost:8080/"
        },
        "outputId": "c5980590-9368-4659-b311-a5dd03cf2214"
      },
      "execution_count": 44,
      "outputs": [
        {
          "output_type": "stream",
          "name": "stdout",
          "text": [
            "+----------+----------+---------+-------+\n",
            "|   service|  protocol|new_label|   freq|\n",
            "+----------+----------+---------+-------+\n",
            "|  ecr_i   |   icmp   |      DoS|2808145|\n",
            "|  eco_i   |   icmp   |    Probe|  12570|\n",
            "| private  |   udp    |    Probe|   1688|\n",
            "| private  |   udp    |      DoS|    979|\n",
            "|  other   |   udp    |    Probe|    261|\n",
            "|  ecr_i   |   icmp   |    Probe|     59|\n",
            "| domain_u |   udp    |    Probe|      9|\n",
            "|  tim_i   |   icmp   |      DoS|      5|\n",
            "|  other   |   udp    |      U2R|      3|\n",
            "|  urp_i   |   icmp   |    Probe|      3|\n",
            "+----------+----------+---------+-------+\n",
            "\n"
          ]
        }
      ]
    }
  ],
  "metadata": {
    "kernelspec": {
      "display_name": "Python 3",
      "language": "python",
      "name": "python3"
    },
    "language_info": {
      "codemirror_mode": {
        "name": "ipython",
        "version": 3
      },
      "file_extension": ".py",
      "mimetype": "text/x-python",
      "name": "python",
      "nbconvert_exporter": "python",
      "pygments_lexer": "ipython3",
      "version": "3.8.3"
    },
    "colab": {
      "provenance": []
    }
  },
  "nbformat": 4,
  "nbformat_minor": 0
}